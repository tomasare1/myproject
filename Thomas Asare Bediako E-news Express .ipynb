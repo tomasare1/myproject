{
 "cells": [
  {
   "cell_type": "markdown",
   "id": "40f27f63",
   "metadata": {},
   "source": [
    "Description\n",
    "Background: \n",
    "\n",
    "An online news portal aims to expand its business by acquiring new subscribers. Every visitor to the website takes certain actions based on their interest. The company plans to analyze these interests and wants to determine whether a new feature will be effective or not. Companies often analyze users' responses to two variants of a product to decide which of the two variants is more effective. This experimental technique is known as a/b testing that is used to determine whether a new feature attracts users based on a chosen metric.\n",
    "\n",
    "Suppose you are hired as a Data Scientist in E-news Express. The design team of the company has created a new landing page. You have been assigned the task to decide whether the new landing page is more effective to gather new subscribers. Suppose you randomly selected 100 users and divided them equally into two groups. The old landing page is served to the first group (control group) and the new landing page is served to the second group (treatment group). Various data about the customers in both groups are collected in 'abtest.csv'. Perform the statistical analysis to answer the following questions using the collected data.\n",
    "\n",
    "Objective:\n",
    "\n",
    "Statistical analysis of business data. Explore the dataset and extract insights from the data. The idea is for you to get comfortable with doing statistical analysis in Python.\n",
    "\n",
    "You are expected to perform the statistical analysis to answer the following questions:\n",
    "\n",
    "Explore the dataset and extract insights using Exploratory Data Analysis.\n",
    "Do the users spend more time on the new landing page than the old landing page?\n",
    "Is the conversion rate (the proportion of users who visit the landing page and get converted) for the new page greater than the conversion rate for the old page?\n",
    "Does the converted status depend on the preferred language? [Hint: Create a contingency table using the pandas.crosstab() function]\n",
    "Is the mean time spent on the new page same for the different language users?\n",
    "*Consider a significance level of 0.05 for all tests.\n",
    "\n",
    "Data Dictionary:\n",
    "\n",
    "user_id - This represents the user ID of the person visiting the website.\n",
    "group - This represents whether the user belongs to the first group (control) or the second group (treatment).\n",
    "landing_page - This represents whether the landing page is new or old.\n",
    "time_spent_on_the_page - This represents the time (in minutes) spent by the user on the landing page.\n",
    "converted - This represents whether the user gets converted to a subscriber of the news portal or not.\n",
    "language_preferred - This represents the language chosen by the user to view the landing page."
   ]
  },
  {
   "cell_type": "code",
   "execution_count": 1,
   "id": "713206aa",
   "metadata": {},
   "outputs": [],
   "source": [
    "import warnings\n",
    "warnings.filterwarnings('ignore')"
   ]
  },
  {
   "cell_type": "code",
   "execution_count": 2,
   "id": "52abbf33",
   "metadata": {},
   "outputs": [],
   "source": [
    "import pandas as pd\n",
    "import numpy as np\n",
    "import matplotlib.pyplot as plt\n",
    "\n",
    "# Libraries to help with data visualization\n",
    "import seaborn as sns\n",
    "import matplotlib.pyplot as plt\n",
    "%matplotlib inline"
   ]
  },
  {
   "cell_type": "code",
   "execution_count": 3,
   "id": "69d04ce1",
   "metadata": {},
   "outputs": [],
   "source": [
    "import scipy.stats as stats\n",
    "from statsmodels.stats.proportion import proportions_ztest\n",
    "import pandas as pd\n",
    "from scipy.stats import chi2_contingency\n",
    "from scipy.stats import ttest_ind\n",
    "from scipy.stats import f_oneway"
   ]
  },
  {
   "cell_type": "code",
   "execution_count": 4,
   "id": "9b11f705",
   "metadata": {},
   "outputs": [],
   "source": [
    "df= pd.read_csv('abtest.csv')"
   ]
  },
  {
   "cell_type": "code",
   "execution_count": 5,
   "id": "ef4c9c58",
   "metadata": {},
   "outputs": [
    {
     "data": {
      "text/plain": [
       "(100, 6)"
      ]
     },
     "execution_count": 5,
     "metadata": {},
     "output_type": "execute_result"
    }
   ],
   "source": [
    "df.shape"
   ]
  },
  {
   "cell_type": "code",
   "execution_count": 6,
   "id": "b3cf6885",
   "metadata": {},
   "outputs": [
    {
     "data": {
      "text/plain": [
       "user_id                   0\n",
       "group                     0\n",
       "landing_page              0\n",
       "time_spent_on_the_page    0\n",
       "converted                 0\n",
       "language_preferred        0\n",
       "dtype: int64"
      ]
     },
     "execution_count": 6,
     "metadata": {},
     "output_type": "execute_result"
    }
   ],
   "source": [
    "df.isnull().sum()"
   ]
  },
  {
   "cell_type": "markdown",
   "id": "09625693",
   "metadata": {},
   "source": [
    "### Observations:\n",
    "In the dataset, there are 100 observations or entries and 6 variables and has no missing value"
   ]
  },
  {
   "cell_type": "code",
   "execution_count": 7,
   "id": "c55c19ec",
   "metadata": {},
   "outputs": [
    {
     "name": "stdout",
     "output_type": "stream",
     "text": [
      "<class 'pandas.core.frame.DataFrame'>\n",
      "RangeIndex: 100 entries, 0 to 99\n",
      "Data columns (total 6 columns):\n",
      " #   Column                  Non-Null Count  Dtype  \n",
      "---  ------                  --------------  -----  \n",
      " 0   user_id                 100 non-null    int64  \n",
      " 1   group                   100 non-null    object \n",
      " 2   landing_page            100 non-null    object \n",
      " 3   time_spent_on_the_page  100 non-null    float64\n",
      " 4   converted               100 non-null    object \n",
      " 5   language_preferred      100 non-null    object \n",
      "dtypes: float64(1), int64(1), object(4)\n",
      "memory usage: 4.8+ KB\n"
     ]
    }
   ],
   "source": [
    "df.info()"
   ]
  },
  {
   "cell_type": "markdown",
   "id": "b64b2d5a",
   "metadata": {},
   "source": [
    "Observations:\n",
    "The dataset has 3 data types, user id is of the data type int64. Group, landing page, converted and language preferred are also of the object type but time spent on the page is of float64."
   ]
  },
  {
   "cell_type": "code",
   "execution_count": 8,
   "id": "0efce9ab",
   "metadata": {},
   "outputs": [
    {
     "data": {
      "text/html": [
       "<div>\n",
       "<style scoped>\n",
       "    .dataframe tbody tr th:only-of-type {\n",
       "        vertical-align: middle;\n",
       "    }\n",
       "\n",
       "    .dataframe tbody tr th {\n",
       "        vertical-align: top;\n",
       "    }\n",
       "\n",
       "    .dataframe thead th {\n",
       "        text-align: right;\n",
       "    }\n",
       "</style>\n",
       "<table border=\"1\" class=\"dataframe\">\n",
       "  <thead>\n",
       "    <tr style=\"text-align: right;\">\n",
       "      <th></th>\n",
       "      <th>count</th>\n",
       "      <th>mean</th>\n",
       "      <th>std</th>\n",
       "      <th>min</th>\n",
       "      <th>25%</th>\n",
       "      <th>50%</th>\n",
       "      <th>75%</th>\n",
       "      <th>max</th>\n",
       "    </tr>\n",
       "  </thead>\n",
       "  <tbody>\n",
       "    <tr>\n",
       "      <th>user_id</th>\n",
       "      <td>100.0</td>\n",
       "      <td>546517.0000</td>\n",
       "      <td>52.295779</td>\n",
       "      <td>546443.00</td>\n",
       "      <td>546467.75</td>\n",
       "      <td>546492.500</td>\n",
       "      <td>546567.2500</td>\n",
       "      <td>546592.00</td>\n",
       "    </tr>\n",
       "    <tr>\n",
       "      <th>time_spent_on_the_page</th>\n",
       "      <td>100.0</td>\n",
       "      <td>5.3778</td>\n",
       "      <td>2.378166</td>\n",
       "      <td>0.19</td>\n",
       "      <td>3.88</td>\n",
       "      <td>5.415</td>\n",
       "      <td>7.0225</td>\n",
       "      <td>10.71</td>\n",
       "    </tr>\n",
       "  </tbody>\n",
       "</table>\n",
       "</div>"
      ],
      "text/plain": [
       "                        count         mean        std        min        25%  \\\n",
       "user_id                 100.0  546517.0000  52.295779  546443.00  546467.75   \n",
       "time_spent_on_the_page  100.0       5.3778   2.378166       0.19       3.88   \n",
       "\n",
       "                               50%          75%        max  \n",
       "user_id                 546492.500  546567.2500  546592.00  \n",
       "time_spent_on_the_page       5.415       7.0225      10.71  "
      ]
     },
     "execution_count": 8,
     "metadata": {},
     "output_type": "execute_result"
    }
   ],
   "source": [
    "df.describe().T"
   ]
  },
  {
   "cell_type": "markdown",
   "id": "5b5333ff",
   "metadata": {},
   "source": [
    "### Observations:\n",
    "On average, users spend 5.4 minutes on the page with a standard deviation of 2.4. The median time it take users on the page is also around 5.4 minutes similar to the mean suggesting the time spent on the page follows a normal distribution."
   ]
  },
  {
   "cell_type": "code",
   "execution_count": 9,
   "id": "12d48861",
   "metadata": {},
   "outputs": [
    {
     "data": {
      "text/html": [
       "<div>\n",
       "<style scoped>\n",
       "    .dataframe tbody tr th:only-of-type {\n",
       "        vertical-align: middle;\n",
       "    }\n",
       "\n",
       "    .dataframe tbody tr th {\n",
       "        vertical-align: top;\n",
       "    }\n",
       "\n",
       "    .dataframe thead th {\n",
       "        text-align: right;\n",
       "    }\n",
       "</style>\n",
       "<table border=\"1\" class=\"dataframe\">\n",
       "  <thead>\n",
       "    <tr style=\"text-align: right;\">\n",
       "      <th></th>\n",
       "      <th>user_id</th>\n",
       "      <th>group</th>\n",
       "      <th>landing_page</th>\n",
       "      <th>time_spent_on_the_page</th>\n",
       "      <th>converted</th>\n",
       "      <th>language_preferred</th>\n",
       "    </tr>\n",
       "  </thead>\n",
       "  <tbody>\n",
       "    <tr>\n",
       "      <th>0</th>\n",
       "      <td>546592</td>\n",
       "      <td>control</td>\n",
       "      <td>old</td>\n",
       "      <td>3.48</td>\n",
       "      <td>no</td>\n",
       "      <td>Spanish</td>\n",
       "    </tr>\n",
       "    <tr>\n",
       "      <th>1</th>\n",
       "      <td>546468</td>\n",
       "      <td>treatment</td>\n",
       "      <td>new</td>\n",
       "      <td>7.13</td>\n",
       "      <td>yes</td>\n",
       "      <td>English</td>\n",
       "    </tr>\n",
       "    <tr>\n",
       "      <th>2</th>\n",
       "      <td>546462</td>\n",
       "      <td>treatment</td>\n",
       "      <td>new</td>\n",
       "      <td>4.40</td>\n",
       "      <td>no</td>\n",
       "      <td>Spanish</td>\n",
       "    </tr>\n",
       "    <tr>\n",
       "      <th>3</th>\n",
       "      <td>546567</td>\n",
       "      <td>control</td>\n",
       "      <td>old</td>\n",
       "      <td>3.02</td>\n",
       "      <td>no</td>\n",
       "      <td>French</td>\n",
       "    </tr>\n",
       "    <tr>\n",
       "      <th>4</th>\n",
       "      <td>546459</td>\n",
       "      <td>treatment</td>\n",
       "      <td>new</td>\n",
       "      <td>4.75</td>\n",
       "      <td>yes</td>\n",
       "      <td>Spanish</td>\n",
       "    </tr>\n",
       "  </tbody>\n",
       "</table>\n",
       "</div>"
      ],
      "text/plain": [
       "   user_id      group landing_page  time_spent_on_the_page converted  \\\n",
       "0   546592    control          old                    3.48        no   \n",
       "1   546468  treatment          new                    7.13       yes   \n",
       "2   546462  treatment          new                    4.40        no   \n",
       "3   546567    control          old                    3.02        no   \n",
       "4   546459  treatment          new                    4.75       yes   \n",
       "\n",
       "  language_preferred  \n",
       "0            Spanish  \n",
       "1            English  \n",
       "2            Spanish  \n",
       "3             French  \n",
       "4            Spanish  "
      ]
     },
     "execution_count": 9,
     "metadata": {},
     "output_type": "execute_result"
    }
   ],
   "source": [
    "df.head()"
   ]
  },
  {
   "cell_type": "markdown",
   "id": "2ce30c22",
   "metadata": {},
   "source": [
    "# Explore the dataset and extract insights using Exploratory Data Analysis.\n"
   ]
  },
  {
   "cell_type": "code",
   "execution_count": 10,
   "id": "f4805cb0",
   "metadata": {},
   "outputs": [
    {
     "data": {
      "text/plain": [
       "Text(0.5, 1.0, 'Landing Page')"
      ]
     },
     "execution_count": 10,
     "metadata": {},
     "output_type": "execute_result"
    },
    {
     "data": {
      "image/png": "[encoded data removed]",
      "text/plain": [
       "<Figure size 432x288 with 1 Axes>"
      ]
     },
     "metadata": {
      "needs_background": "light"
     },
     "output_type": "display_data"
    }
   ],
   "source": [
    "sns.countplot(df['landing_page'])\n",
    "plt.title('Landing Page')"
   ]
  },
  {
   "cell_type": "markdown",
   "id": "1a99893b",
   "metadata": {},
   "source": [
    "### Obervations: \n",
    "There are 50 old and 50 new users on the landing page"
   ]
  },
  {
   "cell_type": "code",
   "execution_count": 11,
   "id": "1a512f17",
   "metadata": {},
   "outputs": [
    {
     "data": {
      "text/plain": [
       "Text(0.5, 1.0, 'group')"
      ]
     },
     "execution_count": 11,
     "metadata": {},
     "output_type": "execute_result"
    },
    {
     "data": {
      "image/png": "[encoded data removed]",
      "text/plain": [
       "<Figure size 432x288 with 1 Axes>"
      ]
     },
     "metadata": {
      "needs_background": "light"
     },
     "output_type": "display_data"
    }
   ],
   "source": [
    "sns.countplot(df['group'])\n",
    "plt.title('group')"
   ]
  },
  {
   "cell_type": "markdown",
   "id": "35c6b684",
   "metadata": {},
   "source": [
    "### Obervations: \n",
    "There are 50 treatment and 50 control users in the groups"
   ]
  },
  {
   "cell_type": "code",
   "execution_count": 12,
   "id": "4ad6e0a4",
   "metadata": {},
   "outputs": [
    {
     "data": {
      "text/plain": [
       "Text(0.5, 1.0, 'converted')"
      ]
     },
     "execution_count": 12,
     "metadata": {},
     "output_type": "execute_result"
    },
    {
     "data": {
      "image/png": "[encoded data removed]",
      "text/plain": [
       "<Figure size 432x288 with 1 Axes>"
      ]
     },
     "metadata": {
      "needs_background": "light"
     },
     "output_type": "display_data"
    }
   ],
   "source": [
    "sns.countplot(df['converted'])\n",
    "plt.title('converted')"
   ]
  },
  {
   "cell_type": "markdown",
   "id": "77d6986f",
   "metadata": {},
   "source": [
    "### Obervations: \n",
    "The number of users who are converted when they use the landing page is higher than those who do not get converted."
   ]
  },
  {
   "cell_type": "code",
   "execution_count": 13,
   "id": "ba1345c3",
   "metadata": {},
   "outputs": [
    {
     "data": {
      "text/plain": [
       "Text(0.5, 1.0, 'language_preferred')"
      ]
     },
     "execution_count": 13,
     "metadata": {},
     "output_type": "execute_result"
    },
    {
     "data": {
      "image/png": "[encoded data removed]",
      "text/plain": [
       "<Figure size 432x288 with 1 Axes>"
      ]
     },
     "metadata": {
      "needs_background": "light"
     },
     "output_type": "display_data"
    }
   ],
   "source": [
    "sns.countplot(df['language_preferred'])\n",
    "plt.title('language_preferred')"
   ]
  },
  {
   "cell_type": "code",
   "execution_count": 14,
   "id": "4685e3c7",
   "metadata": {},
   "outputs": [
    {
     "data": {
      "text/plain": [
       "Spanish    34\n",
       "French     34\n",
       "English    32\n",
       "Name: language_preferred, dtype: int64"
      ]
     },
     "execution_count": 14,
     "metadata": {},
     "output_type": "execute_result"
    }
   ],
   "source": [
    "df['language_preferred'].value_counts()"
   ]
  },
  {
   "cell_type": "markdown",
   "id": "59d17afa",
   "metadata": {},
   "source": [
    "### Obervations: \n",
    "The number of users who prefer Spanish and French are the same but smaller for English."
   ]
  },
  {
   "cell_type": "code",
   "execution_count": 15,
   "id": "8d51fa86",
   "metadata": {},
   "outputs": [
    {
     "data": {
      "text/plain": [
       "<AxesSubplot:xlabel='language_preferred', ylabel='count'>"
      ]
     },
     "execution_count": 15,
     "metadata": {},
     "output_type": "execute_result"
    },
    {
     "data": {
      "image/png": "[encoded data removed]",
      "text/plain": [
       "<Figure size 432x288 with 1 Axes>"
      ]
     },
     "metadata": {
      "needs_background": "light"
     },
     "output_type": "display_data"
    }
   ],
   "source": [
    "sns.countplot(x = 'language_preferred', data = df, hue = 'converted')"
   ]
  },
  {
   "cell_type": "markdown",
   "id": "2bf8f092",
   "metadata": {},
   "source": [
    "### Obervations: \n",
    "The number of users that were converted on the landing page is higher for users who prefer English, followed by Spanish and then French. That is more people who prefer English were converted than the two other languages."
   ]
  },
  {
   "cell_type": "code",
   "execution_count": 16,
   "id": "955d0e3a",
   "metadata": {},
   "outputs": [
    {
     "data": {
      "text/plain": [
       "<AxesSubplot:xlabel='landing_page', ylabel='count'>"
      ]
     },
     "execution_count": 16,
     "metadata": {},
     "output_type": "execute_result"
    },
    {
     "data": {
      "image/png": "[encoded data removed]",
      "text/plain": [
       "<Figure size 432x288 with 1 Axes>"
      ]
     },
     "metadata": {
      "needs_background": "light"
     },
     "output_type": "display_data"
    }
   ],
   "source": [
    "sns.countplot(x = 'landing_page', data = df, hue = 'language_preferred')"
   ]
  },
  {
   "cell_type": "markdown",
   "id": "28f19d03",
   "metadata": {},
   "source": [
    "### Observations:\n",
    "With respect to language preferred, there does not seem much of a difference in the landing page they are on, whether new or old"
   ]
  },
  {
   "cell_type": "code",
   "execution_count": 17,
   "id": "a895de47",
   "metadata": {},
   "outputs": [
    {
     "data": {
      "text/plain": [
       "<AxesSubplot:xlabel='landing_page', ylabel='count'>"
      ]
     },
     "execution_count": 17,
     "metadata": {},
     "output_type": "execute_result"
    },
    {
     "data": {
      "image/png": "[encoded data removed]",
      "text/plain": [
       "<Figure size 432x288 with 1 Axes>"
      ]
     },
     "metadata": {
      "needs_background": "light"
     },
     "output_type": "display_data"
    }
   ],
   "source": [
    "sns.countplot(x = 'landing_page', data = df, hue = 'converted')"
   ]
  },
  {
   "cell_type": "markdown",
   "id": "d567cab8",
   "metadata": {},
   "source": [
    "### Observations:\n",
    "With respect to landing page, there were more users who were converted on the new than they were on the old."
   ]
  },
  {
   "cell_type": "code",
   "execution_count": 18,
   "id": "89ec341f",
   "metadata": {},
   "outputs": [
    {
     "data": {
      "text/plain": [
       "<AxesSubplot:xlabel='language_preferred', ylabel='time_spent_on_the_page'>"
      ]
     },
     "execution_count": 18,
     "metadata": {},
     "output_type": "execute_result"
    },
    {
     "data": {
      "image/png": "[encoded data removed]",
      "text/plain": [
       "<Figure size 432x288 with 1 Axes>"
      ]
     },
     "metadata": {
      "needs_background": "light"
     },
     "output_type": "display_data"
    }
   ],
   "source": [
    "sns.boxplot(y='time_spent_on_the_page', x = 'language_preferred', data = df)"
   ]
  },
  {
   "cell_type": "markdown",
   "id": "9b2562c7",
   "metadata": {},
   "source": [
    "### Observations:\n",
    "With respect to language preferred, the distribution of time spent on the page seems to follow a normal distribution for English and french, while it appear to be left skewed for Spanish. The median time spent on the page is higher for users who prefer English followed by Spanish and then French. There is an outlier on the Spanish distribution."
   ]
  },
  {
   "cell_type": "code",
   "execution_count": 19,
   "id": "b077ecac",
   "metadata": {},
   "outputs": [
    {
     "data": {
      "text/plain": [
       "<AxesSubplot:xlabel='time_spent_on_the_page', ylabel='converted'>"
      ]
     },
     "execution_count": 19,
     "metadata": {},
     "output_type": "execute_result"
    },
    {
     "data": {
      "image/png": "[encoded data removed]",
      "text/plain": [
       "<Figure size 432x288 with 1 Axes>"
      ]
     },
     "metadata": {
      "needs_background": "light"
     },
     "output_type": "display_data"
    }
   ],
   "source": [
    "sns.boxplot(x='time_spent_on_the_page', y = 'converted', data = df)"
   ]
  },
  {
   "cell_type": "markdown",
   "id": "06cb5786",
   "metadata": {},
   "source": [
    "### Observations:\n",
    "With respect to converted, the distribution of time spent on the page seems to right skewed for both. The median time spent on the page is higher for users who were converted than users who were not converted. There are outliers on both distributions."
   ]
  },
  {
   "cell_type": "code",
   "execution_count": 20,
   "id": "71aff9bc",
   "metadata": {},
   "outputs": [
    {
     "data": {
      "text/plain": [
       "<AxesSubplot:xlabel='time_spent_on_the_page', ylabel='group'>"
      ]
     },
     "execution_count": 20,
     "metadata": {},
     "output_type": "execute_result"
    },
    {
     "data": {
      "image/png": "[encoded data removed]",
      "text/plain": [
       "<Figure size 432x288 with 1 Axes>"
      ]
     },
     "metadata": {
      "needs_background": "light"
     },
     "output_type": "display_data"
    }
   ],
   "source": [
    "sns.boxplot(x='time_spent_on_the_page', y = 'group', data = df)"
   ]
  },
  {
   "cell_type": "markdown",
   "id": "c48e4202",
   "metadata": {},
   "source": [
    "### Observations:\n",
    "On average, the time spent on the page is higher in the treatment group  with a few outliers\n"
   ]
  },
  {
   "cell_type": "code",
   "execution_count": 21,
   "id": "ca86ff8c",
   "metadata": {},
   "outputs": [
    {
     "data": {
      "text/plain": [
       "<AxesSubplot:xlabel='time_spent_on_the_page', ylabel='landing_page'>"
      ]
     },
     "execution_count": 21,
     "metadata": {},
     "output_type": "execute_result"
    },
    {
     "data": {
      "image/png": "[encoded data removed]",
      "text/plain": [
       "<Figure size 432x288 with 1 Axes>"
      ]
     },
     "metadata": {
      "needs_background": "light"
     },
     "output_type": "display_data"
    }
   ],
   "source": [
    "sns.boxplot(x='time_spent_on_the_page', y = 'landing_page', data = df)"
   ]
  },
  {
   "cell_type": "markdown",
   "id": "3f6e28b7",
   "metadata": {},
   "source": [
    "### Observations:\n",
    "On average, the time spent on the page is higher when users were on the new page compared to the old with a few outliers"
   ]
  },
  {
   "cell_type": "code",
   "execution_count": 22,
   "id": "38fbdcb7",
   "metadata": {},
   "outputs": [
    {
     "data": {
      "text/plain": [
       "<AxesSubplot:xlabel='time_spent_on_the_page', ylabel='landing_page'>"
      ]
     },
     "execution_count": 22,
     "metadata": {},
     "output_type": "execute_result"
    },
    {
     "data": {
      "image/png": "[encoded data removed]",
      "text/plain": [
       "<Figure size 432x288 with 1 Axes>"
      ]
     },
     "metadata": {
      "needs_background": "light"
     },
     "output_type": "display_data"
    }
   ],
   "source": [
    "sns.boxplot(x='time_spent_on_the_page', y = 'landing_page', data = df, hue='converted')"
   ]
  },
  {
   "cell_type": "markdown",
   "id": "8c5c163a",
   "metadata": {},
   "source": [
    "### Observations:\n",
    "On average, the time spent on the page is higher on the new landing page for users who were converted, compared to the mean time spent for those who were converted on the old landing page"
   ]
  },
  {
   "cell_type": "code",
   "execution_count": 23,
   "id": "9dd98d5b",
   "metadata": {},
   "outputs": [
    {
     "data": {
      "text/plain": [
       "<AxesSubplot:xlabel='time_spent_on_the_page', ylabel='Density'>"
      ]
     },
     "execution_count": 23,
     "metadata": {},
     "output_type": "execute_result"
    },
    {
     "data": {
      "image/png": "[encoded data removed]",
      "text/plain": [
       "<Figure size 432x288 with 1 Axes>"
      ]
     },
     "metadata": {
      "needs_background": "light"
     },
     "output_type": "display_data"
    }
   ],
   "source": [
    "sns.distplot(df['time_spent_on_the_page'], kde = True, bins=9)"
   ]
  },
  {
   "cell_type": "markdown",
   "id": "6c69bae4",
   "metadata": {},
   "source": [
    "### observation\n",
    "The distribution of time spent on the page follows a normal distribution, with mean, median and mode approximately equal. The best measure of center and spread are the mean and standard deviation."
   ]
  },
  {
   "cell_type": "markdown",
   "id": "dcdc12a0",
   "metadata": {},
   "source": [
    "# Do the users spend more time on the new landing page than the old landing page?\n"
   ]
  },
  {
   "cell_type": "markdown",
   "id": "b0a3b397",
   "metadata": {},
   "source": [
    "### Let's write the null and alternative hypothesis\n",
    "\n",
    "Let $\\mu_1, \\mu_2$ be the means of the new and old landing page respectively.\n",
    "\n",
    "We will test the null hypothesis\n",
    "\n",
    ">$H_0: \\mu_1 = \\mu_2$\n",
    "\n",
    "against the alternative hypothesis\n",
    "\n",
    ">$H_a: \\mu_1 > \\mu_2$"
   ]
  },
  {
   "cell_type": "markdown",
   "id": "ba289ff8",
   "metadata": {},
   "source": [
    "### Let's test whether the T-test assumptions are satisfied or not\n",
    "\n",
    "* Continuous data - Yes, the time spent on the page is measured on a continuous scale.\n",
    "* Normally distributed populations - Yes, the populations normal.\n",
    "* Independent populations - As we are taking random samples for two different groups, the two samples are from two independent populations.\n",
    "* Unequal population standard deviations - As the sample standard deviations are different, the population standard deviations may be assumed to be different.\n",
    "* Random sampling from the population - Yes, we are informed that the collected sample a simple random sample."
   ]
  },
  {
   "cell_type": "code",
   "execution_count": 24,
   "id": "17655be9",
   "metadata": {},
   "outputs": [
    {
     "data": {
      "text/plain": [
       "1    7.13\n",
       "2    4.40\n",
       "Name: time_spent_on_the_page, dtype: float64"
      ]
     },
     "execution_count": 24,
     "metadata": {},
     "output_type": "execute_result"
    }
   ],
   "source": [
    "new = df[df['landing_page']=='new']['time_spent_on_the_page']\n",
    "new.head(2)"
   ]
  },
  {
   "cell_type": "code",
   "execution_count": 25,
   "id": "81b95e5b",
   "metadata": {},
   "outputs": [
    {
     "name": "stdout",
     "output_type": "stream",
     "text": [
      "6.2232\n",
      "1.8170310387878263\n"
     ]
    }
   ],
   "source": [
    "print(new.mean())\n",
    "print(new.std())\n"
   ]
  },
  {
   "cell_type": "code",
   "execution_count": 26,
   "id": "4ed41368",
   "metadata": {},
   "outputs": [
    {
     "data": {
      "text/plain": [
       "0    3.48\n",
       "3    3.02\n",
       "Name: time_spent_on_the_page, dtype: float64"
      ]
     },
     "execution_count": 26,
     "metadata": {},
     "output_type": "execute_result"
    }
   ],
   "source": [
    "old= df[df['landing_page']=='old']['time_spent_on_the_page']\n",
    "old.head(2)"
   ]
  },
  {
   "cell_type": "code",
   "execution_count": 27,
   "id": "5cdb2763",
   "metadata": {},
   "outputs": [
    {
     "name": "stdout",
     "output_type": "stream",
     "text": [
      "4.532400000000001\n",
      "2.581974849306046\n"
     ]
    }
   ],
   "source": [
    "print(old.mean())\n",
    "print(old.std())"
   ]
  },
  {
   "cell_type": "code",
   "execution_count": 28,
   "id": "8c0bb2ad",
   "metadata": {},
   "outputs": [
    {
     "data": {
      "text/plain": [
       "old    50\n",
       "new    50\n",
       "Name: landing_page, dtype: int64"
      ]
     },
     "execution_count": 28,
     "metadata": {},
     "output_type": "execute_result"
    }
   ],
   "source": [
    "df['landing_page'].value_counts()"
   ]
  },
  {
   "cell_type": "code",
   "execution_count": 29,
   "id": "3aa73537",
   "metadata": {},
   "outputs": [
    {
     "name": "stdout",
     "output_type": "stream",
     "text": [
      "test =  3.7867702694199856 , p_value =  0.0001316123528095005\n"
     ]
    }
   ],
   "source": [
    "t,p_value = stats.ttest_ind(new, old, equal_var = True, alternative='greater')\n",
    "print(\"test = \",t, \", p_value = \", p_value)"
   ]
  },
  {
   "cell_type": "markdown",
   "id": "7dfbe848",
   "metadata": {},
   "source": [
    "### Insight\n",
    "As the p-value (0.0001316) is less than the level of significance, we can reject the null hypothesis. Hence, at a 5% significance level we do have enough evidence to support the claim that users spend more time on the new landing page than the old landing page."
   ]
  },
  {
   "cell_type": "markdown",
   "id": "7f126467",
   "metadata": {},
   "source": [
    "# Is the conversion rate (the proportion of users who visit the landing page and get converted) for the new page greater than the conversion rate for the old page?\n"
   ]
  },
  {
   "cell_type": "markdown",
   "id": "bec18e18",
   "metadata": {},
   "source": [
    "Let $p_1,p_2$ be the proportions of users who visit the new landing page and get converted and users who visit the old landing page and get converted respectively.\n",
    "\n",
    "We will test the null hypothesis\n",
    "\n",
    ">$H_0:p_1 =p_2$\n",
    "\n",
    "against the alternate hypothesis\n",
    "\n",
    ">$H_a:p_1 > p_2$"
   ]
  },
  {
   "cell_type": "code",
   "execution_count": 30,
   "id": "1834f6f3",
   "metadata": {},
   "outputs": [
    {
     "name": "stdout",
     "output_type": "stream",
     "text": [
      "33\n"
     ]
    }
   ],
   "source": [
    "# set the counts of new\n",
    "new2 = df[df['landing_page']=='new']\n",
    "newcon= new2[new2['converted']=='yes']\n",
    "ncon=len(newcon)\n",
    "print(ncon)"
   ]
  },
  {
   "cell_type": "code",
   "execution_count": 31,
   "id": "342ebeb2",
   "metadata": {},
   "outputs": [
    {
     "name": "stdout",
     "output_type": "stream",
     "text": [
      "21\n"
     ]
    }
   ],
   "source": [
    "# set the counts of old\n",
    "old2 = df[df['landing_page']=='old']\n",
    "oldcon= old2[old2['converted']=='yes']\n",
    "ocon=len(oldcon)\n",
    "print(ocon)"
   ]
  },
  {
   "cell_type": "code",
   "execution_count": 32,
   "id": "beca1c8b",
   "metadata": {},
   "outputs": [
    {
     "name": "stdout",
     "output_type": "stream",
     "text": [
      "50\n",
      "50\n"
     ]
    }
   ],
   "source": [
    "# set the sample sizes\n",
    "new3 = len(new2)\n",
    "\n",
    "\n",
    "old3 = len(old2)\n",
    "print(new3)\n",
    "print(old3)"
   ]
  },
  {
   "cell_type": "markdown",
   "id": "f37f2e33",
   "metadata": {},
   "source": [
    "### Let's test whether the Z-test assumptions are satisfied or not\n",
    "\n",
    "*   Binomally distributed population - Yes, a user is either converted or not converted.\n",
    "*   Random sampling from the population - Yes, we are informed that the collected sample is a simple random sample.  \n",
    "*   Can the binomial distribution approximated to normal distribution - Yes. For binary data, CLT works slower than usual. The standard thing is to check whether np and n(1-p) are greater than or equal to 10. Here, n and p refer to the sample size and sample proportion respectively.\n",
    ">$np_1 = 50\\cdot \\frac{33}{50} =33 \\geq 10\\\\\n",
    "n(1-p_1) = 50 \\cdot \\frac{50-33}{50} =17 \\geq 10 \\\\\n",
    "np_2 = 50\\cdot \\frac{21}{50} =21 \\geq 10\\\\\n",
    "n(1-p_2) = 50 \\cdot \\frac{50-21}{50} =29 \\geq 10 $"
   ]
  },
  {
   "cell_type": "code",
   "execution_count": 33,
   "id": "fd7c93b2",
   "metadata": {},
   "outputs": [
    {
     "name": "stdout",
     "output_type": "stream",
     "text": [
      "The p-value is 0.008026308204056278\n"
     ]
    }
   ],
   "source": [
    "test_stat, p_value = proportions_ztest([ncon, ocon],[new3,old3], alternative = 'larger')\n",
    "print('The p-value is ' + str(p_value))"
   ]
  },
  {
   "cell_type": "markdown",
   "id": "63331866",
   "metadata": {},
   "source": [
    "### Insight\n",
    "\n",
    "As the p-value is less than the significance level 0.05, we reject the null hypothesis. Thus, at a 5% significance level, there is enough statistical significance to conclude that the conversion rate (the proportion of users who visit the landing page and get converted) for the new page is greater than the conversion rate for the old page."
   ]
  },
  {
   "cell_type": "markdown",
   "id": "fe7fba50",
   "metadata": {},
   "source": [
    "# Does the converted status depend on the preferred language? \n"
   ]
  },
  {
   "cell_type": "markdown",
   "id": "ed9cc3c6",
   "metadata": {},
   "source": [
    "### Let's write the null and alternative hypothesis\n",
    "\n",
    "\n",
    "We will test the null hypothesis\n",
    "\n",
    ">$H_0:$ Converted Status is independent of Preferred language.\n",
    "\n",
    "against the alternate hypothesis\n",
    "\n",
    ">$H_a:$ Converted Status is dependent on Preferred language."
   ]
  },
  {
   "cell_type": "markdown",
   "id": "e01bd19c",
   "metadata": {},
   "source": [
    "### Let's test whether the assumptions are satisfied or not\n",
    "\n",
    "* Categorical variables - Yes\n",
    "* Expected value of the number of sample observations in each level of the variable is at least 5 - Yes, the number of observations in each level is greater than 5.\n",
    "* Random sampling from the population - Yes, we are informed that the collected sample is a simple random sample.\n"
   ]
  },
  {
   "cell_type": "code",
   "execution_count": 34,
   "id": "dc60a688",
   "metadata": {},
   "outputs": [
    {
     "data": {
      "text/html": [
       "<div>\n",
       "<style scoped>\n",
       "    .dataframe tbody tr th:only-of-type {\n",
       "        vertical-align: middle;\n",
       "    }\n",
       "\n",
       "    .dataframe tbody tr th {\n",
       "        vertical-align: top;\n",
       "    }\n",
       "\n",
       "    .dataframe thead th {\n",
       "        text-align: right;\n",
       "    }\n",
       "</style>\n",
       "<table border=\"1\" class=\"dataframe\">\n",
       "  <thead>\n",
       "    <tr style=\"text-align: right;\">\n",
       "      <th></th>\n",
       "      <th>converted</th>\n",
       "      <th>language_preferred</th>\n",
       "    </tr>\n",
       "  </thead>\n",
       "  <tbody>\n",
       "    <tr>\n",
       "      <th>0</th>\n",
       "      <td>no</td>\n",
       "      <td>Spanish</td>\n",
       "    </tr>\n",
       "    <tr>\n",
       "      <th>1</th>\n",
       "      <td>yes</td>\n",
       "      <td>English</td>\n",
       "    </tr>\n",
       "    <tr>\n",
       "      <th>2</th>\n",
       "      <td>no</td>\n",
       "      <td>Spanish</td>\n",
       "    </tr>\n",
       "    <tr>\n",
       "      <th>3</th>\n",
       "      <td>no</td>\n",
       "      <td>French</td>\n",
       "    </tr>\n",
       "    <tr>\n",
       "      <th>4</th>\n",
       "      <td>yes</td>\n",
       "      <td>Spanish</td>\n",
       "    </tr>\n",
       "  </tbody>\n",
       "</table>\n",
       "</div>"
      ],
      "text/plain": [
       "  converted language_preferred\n",
       "0        no            Spanish\n",
       "1       yes            English\n",
       "2        no            Spanish\n",
       "3        no             French\n",
       "4       yes            Spanish"
      ]
     },
     "execution_count": 34,
     "metadata": {},
     "output_type": "execute_result"
    }
   ],
   "source": [
    "df1 = df[['converted', 'language_preferred']]\n",
    "df1.head()"
   ]
  },
  {
   "cell_type": "code",
   "execution_count": 35,
   "id": "2c35fbe3",
   "metadata": {},
   "outputs": [
    {
     "data": {
      "text/html": [
       "<div>\n",
       "<style scoped>\n",
       "    .dataframe tbody tr th:only-of-type {\n",
       "        vertical-align: middle;\n",
       "    }\n",
       "\n",
       "    .dataframe tbody tr th {\n",
       "        vertical-align: top;\n",
       "    }\n",
       "\n",
       "    .dataframe thead th {\n",
       "        text-align: right;\n",
       "    }\n",
       "</style>\n",
       "<table border=\"1\" class=\"dataframe\">\n",
       "  <thead>\n",
       "    <tr style=\"text-align: right;\">\n",
       "      <th>language_preferred</th>\n",
       "      <th>English</th>\n",
       "      <th>French</th>\n",
       "      <th>Spanish</th>\n",
       "    </tr>\n",
       "    <tr>\n",
       "      <th>converted</th>\n",
       "      <th></th>\n",
       "      <th></th>\n",
       "      <th></th>\n",
       "    </tr>\n",
       "  </thead>\n",
       "  <tbody>\n",
       "    <tr>\n",
       "      <th>no</th>\n",
       "      <td>11</td>\n",
       "      <td>19</td>\n",
       "      <td>16</td>\n",
       "    </tr>\n",
       "    <tr>\n",
       "      <th>yes</th>\n",
       "      <td>21</td>\n",
       "      <td>15</td>\n",
       "      <td>18</td>\n",
       "    </tr>\n",
       "  </tbody>\n",
       "</table>\n",
       "</div>"
      ],
      "text/plain": [
       "language_preferred  English  French  Spanish\n",
       "converted                                   \n",
       "no                       11      19       16\n",
       "yes                      21      15       18"
      ]
     },
     "execution_count": 35,
     "metadata": {},
     "output_type": "execute_result"
    }
   ],
   "source": [
    "crosstab = pd.crosstab(df1['converted'], df1['language_preferred'])\n",
    "crosstab"
   ]
  },
  {
   "cell_type": "code",
   "execution_count": 36,
   "id": "60ecbcd6",
   "metadata": {},
   "outputs": [
    {
     "name": "stdout",
     "output_type": "stream",
     "text": [
      "The p-value is 0.21298887487543447\n"
     ]
    }
   ],
   "source": [
    "chi, p_value, dof, expected = chi2_contingency(crosstab)\n",
    "print('The p-value is', p_value)"
   ]
  },
  {
   "cell_type": "markdown",
   "id": "e51a5590",
   "metadata": {},
   "source": [
    "### Insight\n",
    "As the p-value is greater than the significance level, we fail to reject the null hypothesis. Hence, at a 5% significance level, there is enough statistical significance to conclude that converted status is independent of language preferred."
   ]
  },
  {
   "cell_type": "markdown",
   "id": "bd255c7e",
   "metadata": {},
   "source": [
    "# Is the mean time spent on the new page same for the different language users?"
   ]
  },
  {
   "cell_type": "markdown",
   "id": "e6c2dd9f",
   "metadata": {},
   "source": [
    "### Let's write the null and alternative hypothesis\n",
    "\n",
    "Let $\\mu_1, \\mu_2, \\mu_3$ be the means of time spent on the new page for Spanish, English and French respectively.\n",
    "\n",
    "We will test the null hypothesis\n",
    "\n",
    ">$H_0: \\mu_1 = \\mu_2 = \\mu_3$\n",
    "\n",
    "against the alternative hypothesis\n",
    "\n",
    ">$H_a: $ At least one mean time spent on the page is different from the the rest of the preferred languages."
   ]
  },
  {
   "cell_type": "code",
   "execution_count": 37,
   "id": "f74b9546",
   "metadata": {},
   "outputs": [
    {
     "data": {
      "text/plain": [
       "Spanish    17\n",
       "French     17\n",
       "English    16\n",
       "Name: language_preferred, dtype: int64"
      ]
     },
     "execution_count": 37,
     "metadata": {},
     "output_type": "execute_result"
    }
   ],
   "source": [
    "new2 = df[df['landing_page']=='new']\n",
    "new2['language_preferred'].value_counts()"
   ]
  },
  {
   "cell_type": "code",
   "execution_count": 38,
   "id": "7f6a97a7",
   "metadata": {},
   "outputs": [
    {
     "data": {
      "text/plain": [
       "language_preferred\n",
       "English    6.663750\n",
       "French     6.196471\n",
       "Spanish    5.835294\n",
       "Name: time_spent_on_the_page, dtype: float64"
      ]
     },
     "execution_count": 38,
     "metadata": {},
     "output_type": "execute_result"
    }
   ],
   "source": [
    "new2.groupby('language_preferred')['time_spent_on_the_page'].mean()"
   ]
  },
  {
   "cell_type": "markdown",
   "id": "2e7f8008",
   "metadata": {},
   "source": [
    "### Shapiro-Wilk’s test\n",
    "\n",
    "We will test the null hypothesis\n",
    "\n",
    ">$H_0:$ Time spent on the page follows a normal distribution against\n",
    "\n",
    "against the alternative hypothesis\n",
    "\n",
    ">$H_a:$ Time spent on the page does not follow a normal distribution"
   ]
  },
  {
   "cell_type": "code",
   "execution_count": 39,
   "id": "5ecdee2b",
   "metadata": {},
   "outputs": [
    {
     "name": "stdout",
     "output_type": "stream",
     "text": [
      "The p-value is 0.5643684267997742\n"
     ]
    }
   ],
   "source": [
    "# find the p-value\n",
    "w, p_value = stats.shapiro(df['time_spent_on_the_page']) \n",
    "print('The p-value is', p_value)"
   ]
  },
  {
   "cell_type": "markdown",
   "id": "3efde3f5",
   "metadata": {},
   "source": [
    "Since p-value of the test is very large, we fail to reject the null hypothesis that the response follows the normal distribution."
   ]
  },
  {
   "cell_type": "markdown",
   "id": "0f9c9f2d",
   "metadata": {},
   "source": [
    "### Levene’s test\n",
    "\n",
    "We will test the null hypothesis\n",
    "\n",
    ">$H_0$: All the population variances are equal\n",
    "\n",
    "against the alternative hypothesis\n",
    "\n",
    ">$H_a$: At least one variance is different from the rest"
   ]
  },
  {
   "cell_type": "code",
   "execution_count": 40,
   "id": "76513a73",
   "metadata": {},
   "outputs": [
    {
     "name": "stdout",
     "output_type": "stream",
     "text": [
      "The p-value is 0.06515086840327314\n"
     ]
    }
   ],
   "source": [
    "from scipy.stats import levene\n",
    "statistic, p_value = levene( df['time_spent_on_the_page'][df['language_preferred'] == 'Spanish'], \n",
    "                                   df['time_spent_on_the_page'][df['language_preferred'] == 'English'], \n",
    "                                   df['time_spent_on_the_page'][df['language_preferred'] == 'French'])\n",
    "# find the p-value\n",
    "print('The p-value is', p_value)"
   ]
  },
  {
   "cell_type": "markdown",
   "id": "4eb445b8",
   "metadata": {},
   "source": [
    "Since the p-value is large, we fail to reject the null hypothesis of homogeneity of variances."
   ]
  },
  {
   "cell_type": "markdown",
   "id": "ba40a819",
   "metadata": {},
   "source": [
    "### Let's test whether the assumptions are satisfied or not\n",
    "\n",
    "* The populations are normally distributed - Yes, the normality assumption is verified using the Shapiro-Wilk’s test.\n",
    "* Samples are independent simple random samples - Yes, we are informed that the collected sample is a simple random sample.\n",
    "* Population variances are equal - Yes, the homogeneity of variance assumption is verified using the Levene's test."
   ]
  },
  {
   "cell_type": "code",
   "execution_count": 41,
   "id": "40c63ec6",
   "metadata": {},
   "outputs": [
    {
     "name": "stdout",
     "output_type": "stream",
     "text": [
      "The p-value is 0.43204138694325955\n"
     ]
    }
   ],
   "source": [
    "test_stat, p_value = f_oneway(new2.loc[new2['language_preferred'] == 'Spanish', 'time_spent_on_the_page'],\n",
    "                              new2.loc[new2['language_preferred'] == 'English', 'time_spent_on_the_page'],\n",
    "                              new2.loc[new2['language_preferred'] == 'French', 'time_spent_on_the_page'])\n",
    "print('The p-value is ' + str(p_value))"
   ]
  },
  {
   "cell_type": "markdown",
   "id": "db7b9584",
   "metadata": {},
   "source": [
    "### Insight\n",
    "As the p-value is larger than the significance level, we fail to reject the null hypothesis. Hence, we do not have enough statistical significance to conclude that  at least one mean time spent on the new page is different from the rest at 5% significance level."
   ]
  },
  {
   "cell_type": "markdown",
   "id": "bd36aa5e",
   "metadata": {},
   "source": [
    "### Key Insights\n",
    "\n",
    "* From the overall data, the users were random split into two groups, 50 in the treatment and 50 in the control group. The control group were offered the old landing page and the new landing page were offered to the treatment group. It can be seen that more people who visited the landing pages were converted to subscribers whilst there were not much of a difference in the the language preferred amongst (Spanish, English and French). \n",
    "\n",
    "* The number of users that were converted to subscribers on the landing page is slightly higher for users who prefer English, followed by Spanish and then French. That is more people who prefer English were converted than the two other languages. With respect to landing page, there were more users who were converted on the new landing page than they were on the old. \n",
    "\n",
    "* With respect to converted, the distribution of time spent on the page seems to right skewed for both. The median time spent on the page is higher for users who were converted than users who were not converted. There are outliers on both distributions. On average, the time spent on the page is higher on the new landing page for users who were converted, compared to the mean time spent for those who were converted on the old landing page.\n",
    "\n",
    "* After testing the hypotheses', we found that  the users spend more time on the new landing page than the old landing page, also the conversion rate (the proportion of users who visit the landing page and get converted) for the new page is greater than the conversion rate for the old page. The hypothsis test again suggests that the mean time spent on the new page is the same for the different language users. It was also found according to the hypothesis testing that converted status is independent of language preferred. All testings were done at a 5% significance level.\n",
    "\n",
    "### Recommendations:\n",
    "\n",
    "* Since the conversion rate was higher on the new landing page, this suggests that the new landing page is working as intended, thus it is more effective in gathering new subscribers, even though there were equal number of people on both pages. Hence the company should encourage more people on the new landing page. \n",
    "\n",
    "* Again, it was seen that more users spent more time on the new landing page than on the old, hence the new landing page is working as intended since it brings more interactions on average, and therefore the company should consider switching from the old landing page to the new one.\n",
    "\n",
    "* Also, there doesnt seem to be any dependency between converted status and the langauge preference, and hence the company should not be too worried about which language a user prefers when it coming converting them to subscribers.\n",
    "\n",
    "* Per the ANOVA test, the mean time spent on the new landing page doesnt not seem to be significantly different from one another interms of language preferred. In other words users of the different preferred language seems to spend the same time on average on the new landing page \n",
    "\n"
   ]
  }
 ],
 "metadata": {
  "kernelspec": {
   "display_name": "Python 3",
   "language": "python",
   "name": "python3"
  },
  "language_info": {
   "codemirror_mode": {
    "name": "ipython",
    "version": 3
   },
   "file_extension": ".py",
   "mimetype": "text/x-python",
   "name": "python",
   "nbconvert_exporter": "python",
   "pygments_lexer": "ipython3",
   "version": "3.8.8"
  }
 },
 "nbformat": 4,
 "nbformat_minor": 5
}
